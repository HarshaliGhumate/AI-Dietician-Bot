{
 "cells": [
  {
   "cell_type": "code",
   "execution_count": 1,
   "metadata": {},
   "outputs": [],
   "source": [
    "class Food(object):\n",
    "\n",
    "    # Initial value for id number\n",
    "    count = 5000;\n",
    "    \n",
    "    def __init__(self, meal_type, name, amount, calories):\n",
    "        self.food_id = Food.count;\n",
    "        self.meal_type = meal_type;\n",
    "        self.name = name;\n",
    "        self.amount = amount;\n",
    "        self.calories = calories;\n",
    "        # For each food add increment the id by 1\n",
    "        Food.count += 1;"
   ]
  },
  {
   "cell_type": "code",
   "execution_count": null,
   "metadata": {},
   "outputs": [],
   "source": []
  }
 ],
 "metadata": {
  "kernelspec": {
   "display_name": "Python 3",
   "language": "python",
   "name": "python3"
  },
  "language_info": {
   "codemirror_mode": {
    "name": "ipython",
    "version": 3
   },
   "file_extension": ".py",
   "mimetype": "text/x-python",
   "name": "python",
   "nbconvert_exporter": "python",
   "pygments_lexer": "ipython3",
   "version": "3.8.8"
  }
 },
 "nbformat": 4,
 "nbformat_minor": 4
}
